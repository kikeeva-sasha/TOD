{
 "cells": [
  {
   "cell_type": "markdown",
   "metadata": {},
   "source": [
    "# Pandas"
   ]
  },
  {
   "cell_type": "markdown",
   "metadata": {},
   "source": [
    "Материалы:\n",
    "* Макрушин С.В. \"Лекция 2: Библиотека Pandas\"\n",
    "* https://pandas.pydata.org/docs/user_guide/index.html#\n",
    "* https://pandas.pydata.org/docs/reference/index.html\n",
    "* Уэс Маккини. Python и анализ данных"
   ]
  },
  {
   "cell_type": "markdown",
   "metadata": {},
   "source": [
    "## Задачи для совместного разбора"
   ]
  },
  {
   "cell_type": "markdown",
   "metadata": {},
   "source": [
    "1. Загрузите данные из файла `sp500hst.txt` и обозначьте столбцы в соответствии с содержимым: `\"date\", \"ticker\", \"open\", \"high\", \"low\", \"close\", \"volume\"`."
   ]
  },
  {
   "cell_type": "markdown",
   "metadata": {},
   "source": [
    "2. Рассчитайте среднее значение показателей для каждого из столбцов c номерами 3-6."
   ]
  },
  {
   "cell_type": "markdown",
   "metadata": {},
   "source": [
    "3. Добавьте столбец, содержащий только число месяца, к которому относится дата."
   ]
  },
  {
   "cell_type": "markdown",
   "metadata": {},
   "source": [
    "4. Рассчитайте суммарный объем торгов для для одинаковых значений тикеров."
   ]
  },
  {
   "cell_type": "markdown",
   "metadata": {},
   "source": [
    "5. Загрузите данные из файла sp500hst.txt и обозначьте столбцы в соответствии с содержимым: \"date\", \"ticker\", \"open\", \"high\", \"low\", \"close\", \"volume\". Добавьте столбец с расшифровкой названия тикера, используя данные из файла `sp_data2.csv` . В случае нехватки данных об именах тикеров корректно обработать их."
   ]
  },
  {
   "cell_type": "markdown",
   "metadata": {},
   "source": [
    "## Лабораторная работа №2"
   ]
  },
  {
   "cell_type": "markdown",
   "metadata": {},
   "source": [
    "### Базовые операции с `DataFrame`"
   ]
  },
  {
   "cell_type": "markdown",
   "metadata": {},
   "source": [
    "1.1 В файлах `recipes_sample.csv` и `reviews_sample.csv` находится информация об рецептах блюд и отзывах на эти рецепты соответственно. Загрузите данные из файлов в виде `pd.DataFrame` с названиями `recipes` и `reviews`. Обратите внимание на корректное считывание столбца с индексами в таблице `reviews` (безымянный столбец)."
   ]
  },
  {
   "cell_type": "markdown",
   "metadata": {},
   "source": [
    "1.2 Для каждой из таблиц выведите основные параметры:\n",
    "* количество точек данных (строк);\n",
    "* количество столбцов;\n",
    "* тип данных каждого столбца."
   ]
  },
  {
   "cell_type": "markdown",
   "metadata": {},
   "source": [
    "1.3 Исследуйте, в каких столбцах таблиц содержатся пропуски. Посчитайте долю строк, содержащих пропуски, в отношении к общему количеству строк."
   ]
  },
  {
   "cell_type": "markdown",
   "metadata": {},
   "source": [
    "1.4 Рассчитайте среднее значение для каждого из числовых столбцов (где это имеет смысл)."
   ]
  },
  {
   "cell_type": "markdown",
   "metadata": {},
   "source": [
    "1.5 Создайте серию из 10 случайных названий рецептов."
   ]
  },
  {
   "cell_type": "markdown",
   "metadata": {},
   "source": [
    "1.6 Измените индекс в таблице `reviews`, пронумеровав строки, начиная с нуля."
   ]
  },
  {
   "cell_type": "markdown",
   "metadata": {},
   "source": [
    "1.7 Выведите информацию о рецептах, время выполнения которых не больше 20 минут и кол-во ингредиентов в которых не больше 5."
   ]
  },
  {
   "cell_type": "markdown",
   "metadata": {},
   "source": [
    "### Работа с датами в `pandas`"
   ]
  },
  {
   "cell_type": "markdown",
   "metadata": {},
   "source": [
    "2.1 Преобразуйте столбец `submitted` из таблицы `recipes` в формат времени. Модифицируйте решение задачи 1.1 так, чтобы считать столбец сразу в нужном формате."
   ]
  },
  {
   "cell_type": "markdown",
   "metadata": {},
   "source": [
    "2.2 Выведите информацию о рецептах, добавленных в датасет не позже 2010 года."
   ]
  },
  {
   "cell_type": "markdown",
   "metadata": {},
   "source": [
    "### Работа со строковыми данными в `pandas`"
   ]
  },
  {
   "cell_type": "markdown",
   "metadata": {},
   "source": [
    "3.1  Добавьте в таблицу `recipes` столбец `description_length`, в котором хранится длина описания рецепта из столбца `description`."
   ]
  },
  {
   "cell_type": "markdown",
   "metadata": {},
   "source": [
    "3.2 Измените название каждого рецепта в таблице `recipes` таким образом, чтобы каждое слово в названии начиналось с прописной буквы."
   ]
  },
  {
   "cell_type": "markdown",
   "metadata": {},
   "source": [
    "3.3 Добавьте в таблицу `recipes` столбец `name_word_count`, в котором хранится количество слов из названии рецепта (считайте, что слова в названии разделяются только пробелами). Обратите внимание, что между словами может располагаться несколько пробелов подряд."
   ]
  },
  {
   "cell_type": "markdown",
   "metadata": {},
   "source": [
    "### Группировки таблиц `pd.DataFrame`"
   ]
  },
  {
   "cell_type": "markdown",
   "metadata": {},
   "source": [
    "4.1 Посчитайте количество рецептов, представленных каждым из участников (`contributor_id`). Какой участник добавил максимальное кол-во рецептов?"
   ]
  },
  {
   "cell_type": "markdown",
   "metadata": {},
   "source": [
    "4.2 Посчитайте средний рейтинг к каждому из рецептов. Для скольких рецептов отсутствуют отзывы? Обратите внимание, что отзыв с нулевым рейтингом или не заполненным текстовым описанием не считается отсутствующим."
   ]
  },
  {
   "cell_type": "markdown",
   "metadata": {},
   "source": [
    "4.3 Посчитайте количество рецептов с разбивкой по годам создания."
   ]
  },
  {
   "cell_type": "markdown",
   "metadata": {},
   "source": [
    "### Объединение таблиц `pd.DataFrame`"
   ]
  },
  {
   "cell_type": "markdown",
   "metadata": {},
   "source": [
    "5.1 При помощи объединения таблиц, создайте `DataFrame`, состоящий из четырех столбцов: `id`, `name`, `user_id`, `rating`. Рецепты, на которые не оставлен ни один отзыв, должны отсутствовать в полученной таблице. Подтвердите правильность работы вашего кода, выбрав рецепт, не имеющий отзывов, и попытавшись найти строку, соответствующую этому рецепту, в полученном `DataFrame`."
   ]
  },
  {
   "cell_type": "markdown",
   "metadata": {},
   "source": [
    "5.2 При помощи объединения таблиц и группировок, создайте `DataFrame`, состоящий из трех столбцов: `recipe_id`, `name`, `review_count`, где столбец `review_count` содержит кол-во отзывов, оставленных на рецепт `recipe_id`. У рецептов, на которые не оставлен ни один отзыв, в столбце `review_count` должен быть указан 0. Подтвердите правильность работы вашего кода, выбрав рецепт, не имеющий отзывов, и найдя строку, соответствующую этому рецепту, в полученном `DataFrame`."
   ]
  },
  {
   "cell_type": "markdown",
   "metadata": {},
   "source": [
    "5.3. Выясните, рецепты, добавленные в каком году, имеют наименьший средний рейтинг?"
   ]
  },
  {
   "cell_type": "markdown",
   "metadata": {},
   "source": [
    "### Сохранение таблиц `pd.DataFrame`"
   ]
  },
  {
   "cell_type": "markdown",
   "metadata": {},
   "source": [
    "6.1 Отсортируйте таблицу в порядке убывания величины столбца `name_word_count` и сохраните результаты выполнения заданий 3.1-3.3 в csv файл. "
   ]
  },
  {
   "cell_type": "markdown",
   "metadata": {},
   "source": [
    "6.2 Воспользовавшись `pd.ExcelWriter`, cохраните результаты 5.1 и 5.2 в файл: на лист с названием `Рецепты с оценками` сохраните результаты выполнения 5.1; на лист с названием `Количество отзывов по рецептам` сохраните результаты выполнения 5.2."
   ]
  },
  {
   "cell_type": "code",
   "execution_count": null,
   "metadata": {},
   "outputs": [],
   "source": []
  },
  {
   "cell_type": "code",
   "execution_count": null,
   "metadata": {},
   "outputs": [],
   "source": []
  },
  {
   "cell_type": "markdown",
   "metadata": {},
   "source": [
    "#### [версия 2]\n",
    "* Уточнены формулировки задач 1.1, 3.3, 4.2, 5.1, 5.2, 5.3"
   ]
  },
  {
   "cell_type": "code",
   "execution_count": null,
   "metadata": {},
   "outputs": [],
   "source": []
  },
  {
   "cell_type": "code",
   "execution_count": 3,
   "metadata": {},
   "outputs": [
    {
     "name": "stdout",
     "output_type": "stream",
     "text": [
      "recipes DataFrame:\n",
      "                                       name     id  minutes  contributor_id  \\\n",
      "0     george s at the cove  black bean soup  44123       90           35193   \n",
      "1        healthy for them  yogurt popsicles  67664       10           91970   \n",
      "2              i can t believe it s spinach  38798       30            1533   \n",
      "3                      italian  gut busters  35173       45           22724   \n",
      "4  love is in the air  beef fondue   sauces  84797       25            4470   \n",
      "\n",
      "    submitted  n_steps                                        description  \\\n",
      "0  2002-10-25      NaN  an original recipe created by chef scott meska...   \n",
      "1  2003-07-26      NaN  my children and their friends ask for my homem...   \n",
      "2  2002-08-29      NaN            these were so go, it surprised even me.   \n",
      "3  2002-07-27      NaN  my sister-in-law made these for us at a family...   \n",
      "4  2004-02-23      4.0  i think a fondue is a very romantic casual din...   \n",
      "\n",
      "   n_ingredients  \n",
      "0           18.0  \n",
      "1            NaN  \n",
      "2            8.0  \n",
      "3            NaN  \n",
      "4            NaN  \n",
      "\n",
      "reviews DataFrame:\n",
      "   Unnamed: 0     user_id  recipe_id        date  rating  \\\n",
      "0      370476       21752      57993  2003-05-01       5   \n",
      "1      624300      431813     142201  2007-09-16       5   \n",
      "2      187037      400708     252013  2008-01-10       4   \n",
      "3      706134  2001852463     404716  2017-12-11       5   \n",
      "4      312179       95810     129396  2008-03-14       5   \n",
      "\n",
      "                                              review  \n",
      "0  Last week whole sides of frozen salmon fillet ...  \n",
      "1  So simple and so tasty!  I used a yellow capsi...  \n",
      "2  Very nice breakfast HH, easy to make and yummy...  \n",
      "3  These are a favorite for the holidays and so e...  \n",
      "4  Excellent soup!  The tomato flavor is just gre...  \n"
     ]
    }
   ],
   "source": [
    "# 1.1 В файлах recipes_sample.csv и reviews_sample.csv находится информация об рецептах блюд и отзывах на эти рецепты соответственно.\n",
    "#Загрузите данные из файлов в виде pd.DataFrame с названиями recipes и reviews. Обратите внимание на корректное считывание\n",
    "#столбца с индексами в таблице reviews (безымянный столбец).\n",
    "import pandas as pd\n",
    "recipes=pd.read_csv('recipes_sample.csv')\n",
    "reviews=pd.read_csv('reviews_sample.csv')\n",
    "print(\"recipes DataFrame:\")\n",
    "print(recipes.head(5))\n",
    "print(\"\\nreviews DataFrame:\")\n",
    "print(reviews.head(5))\n"
   ]
  },
  {
   "cell_type": "code",
   "execution_count": 22,
   "metadata": {},
   "outputs": [
    {
     "name": "stdout",
     "output_type": "stream",
     "text": [
      "Количество строк рецептов: 30000\n",
      "Количество столбцов рецептов: 9\n",
      "тип данных каждого столбца рецептов: \n",
      " name               object\n",
      "id                  int64\n",
      "minutes             int64\n",
      "contributor_id      int64\n",
      "submitted          object\n",
      "n_steps           float64\n",
      "description        object\n",
      "n_ingredients     float64\n",
      "review_count      float64\n",
      "dtype: object\n",
      "Количество строк рецептов: 126696\n",
      "Количество столбцов рецептов: 6\n",
      "тип данных каждого столбца рецептов: \n",
      " Unnamed: 0     int64\n",
      "user_id        int64\n",
      "recipe_id      int64\n",
      "date          object\n",
      "rating         int64\n",
      "review        object\n",
      "dtype: object\n"
     ]
    }
   ],
   "source": [
    "#1.2 Для каждой из таблиц выведите основные параметры: количество точек данных (строк);количество столбцов;тип данных каждого столбца.\n",
    "print('Количество строк рецептов:', recipes.shape[0])\n",
    "print('Количество столбцов рецептов:', recipes.shape[1])\n",
    "print('тип данных каждого столбца рецептов:', \"\\n\", recipes.dtypes)\n",
    "print('Количество строк рецептов:', reviews.shape[0])\n",
    "print('Количество столбцов рецептов:', reviews.shape[1])\n",
    "print('тип данных каждого столбца рецептов:',  \"\\n\", reviews.dtypes)"
   ]
  },
  {
   "cell_type": "code",
   "execution_count": 23,
   "metadata": {},
   "outputs": [
    {
     "name": "stdout",
     "output_type": "stream",
     "text": [
      "Пропуски в столбцах таблицы recipes: name                  0\n",
      "id                    0\n",
      "minutes               0\n",
      "contributor_id        0\n",
      "submitted             0\n",
      "n_steps           11190\n",
      "description         623\n",
      "n_ingredients      8880\n",
      "review_count          0\n",
      "dtype: int64\n",
      "Доля строк с пропусками в таблице recipes: name               0.000000\n",
      "id                 0.000000\n",
      "minutes            0.000000\n",
      "contributor_id     0.000000\n",
      "submitted          0.000000\n",
      "n_steps           37.300000\n",
      "description        2.076667\n",
      "n_ingredients     29.600000\n",
      "review_count       0.000000\n",
      "dtype: float64\n",
      "Пропуски в столбцах таблицы reviews: name                  0\n",
      "id                    0\n",
      "minutes               0\n",
      "contributor_id        0\n",
      "submitted             0\n",
      "n_steps           11190\n",
      "description         623\n",
      "n_ingredients      8880\n",
      "review_count          0\n",
      "dtype: int64\n",
      "Доля строк с пропусками в таблице reviews: name               0.000000\n",
      "id                 0.000000\n",
      "minutes            0.000000\n",
      "contributor_id     0.000000\n",
      "submitted          0.000000\n",
      "n_steps           37.300000\n",
      "description        2.076667\n",
      "n_ingredients     29.600000\n",
      "review_count       0.000000\n",
      "dtype: float64\n"
     ]
    }
   ],
   "source": [
    "#1.3 Исследуйте, в каких столбцах таблиц содержатся пропуски. Посчитайте долю строк, содержащих пропуски, \n",
    "#в отношении к общему количеству строк.\n",
    "k=recipes.isnull().sum()\n",
    "n=len(recipes)\n",
    "f=k/n\n",
    "print(\"Пропуски в столбцах таблицы recipes:\", k)\n",
    "print(\"Доля строк с пропусками в таблице recipes:\", f*100)\n",
    "k1=reviews.isnull().sum()\n",
    "n1=len(reviews)\n",
    "f1=k1/n1\n",
    "print(\"Пропуски в столбцах таблицы reviews:\", k)\n",
    "print(\"Доля строк с пропусками в таблице reviews:\", f*100)"
   ]
  },
  {
   "cell_type": "code",
   "execution_count": 24,
   "metadata": {},
   "outputs": [
    {
     "name": "stdout",
     "output_type": "stream",
     "text": [
      "среднее значение для каждого из числовых столбцов recipes: \n",
      " id                2.218793e+05\n",
      "minutes           1.233581e+02\n",
      "contributor_id    5.635901e+06\n",
      "n_steps           9.805582e+00\n",
      "n_ingredients     9.008286e+00\n",
      "review_count      5.513333e-01\n",
      "dtype: float64\n",
      "среднее значение для каждого из числовых столбцов reviews: \n",
      " Unnamed: 0    5.660898e+05\n",
      "user_id       1.408013e+08\n",
      "recipe_id     1.600944e+05\n",
      "rating        4.410802e+00\n",
      "dtype: float64\n"
     ]
    }
   ],
   "source": [
    "#1.4 Рассчитайте среднее значение для каждого из числовых столбцов (где это имеет смысл).\n",
    "print(\"среднее значение для каждого из числовых столбцов recipes:\",'\\n', recipes.select_dtypes(include=['int','float']).mean())\n",
    "print(\"среднее значение для каждого из числовых столбцов reviews:\",'\\n', reviews.select_dtypes(include=['int','float']).mean())\n"
   ]
  },
  {
   "cell_type": "code",
   "execution_count": 25,
   "metadata": {},
   "outputs": [
    {
     "name": "stdout",
     "output_type": "stream",
     "text": [
      "0      date and banan compote  nakhil wa mooz\n",
      "1                         stuffed taco shells\n",
      "2              jeff s spaghetti with zucchini\n",
      "3    bacon and cream cheese stuffed mushrooms\n",
      "4             haloumi and pesto tomato stacks\n",
      "5                            lemonade muffins\n",
      "6                                     peugeot\n",
      "7               tequila chicken over linguine\n",
      "8            brats with whiskey glazed onions\n",
      "9                      stuffed chicken divine\n",
      "dtype: object\n"
     ]
    }
   ],
   "source": [
    "# 1.5 Создайте серию из 10 случайных названий рецептов.\n",
    "import random\n",
    "print(pd.Series(random.sample(list(recipes['name']), 10)))"
   ]
  },
  {
   "cell_type": "code",
   "execution_count": 26,
   "metadata": {},
   "outputs": [
    {
     "name": "stdout",
     "output_type": "stream",
     "text": [
      "   Unnamed: 0     user_id  recipe_id        date  rating  \\\n",
      "0      370476       21752      57993  2003-05-01       5   \n",
      "1      624300      431813     142201  2007-09-16       5   \n",
      "2      187037      400708     252013  2008-01-10       4   \n",
      "3      706134  2001852463     404716  2017-12-11       5   \n",
      "4      312179       95810     129396  2008-03-14       5   \n",
      "\n",
      "                                              review  \n",
      "0  Last week whole sides of frozen salmon fillet ...  \n",
      "1  So simple and so tasty!  I used a yellow capsi...  \n",
      "2  Very nice breakfast HH, easy to make and yummy...  \n",
      "3  These are a favorite for the holidays and so e...  \n",
      "4  Excellent soup!  The tomato flavor is just gre...  \n"
     ]
    }
   ],
   "source": [
    "# 1.6 Измените индекс в таблице reviews, пронумеровав строки, начиная с нуля.\n",
    "reviews.reset_index(drop=True, inplace=True)\n",
    "print(reviews[:5])"
   ]
  },
  {
   "cell_type": "code",
   "execution_count": 27,
   "metadata": {},
   "outputs": [
    {
     "name": "stdout",
     "output_type": "stream",
     "text": [
      "                                                    name      id  minutes  \\\n",
      "28                                   quick biscuit bread  302399       20   \n",
      "60                         peas  fit for a king or queen  303944       20   \n",
      "90                     hawaiian sunrise           mimosa  100837        5   \n",
      "91            tasty dish s   banana pudding in 2 minutes  286484        2   \n",
      "94                                    1 minute meatballs   11361       13   \n",
      "...                                                  ...     ...      ...   \n",
      "29873  zip and steam red potatoes with butter and garlic  304922       13   \n",
      "29874                          ziplock vanilla ice cream   74250       10   \n",
      "29905                      zucchini and corn with cheese  256177       15   \n",
      "29980               zucchini with jalapeno monterey jack  320622       10   \n",
      "29983                          zucchini with serrano ham  162411       15   \n",
      "\n",
      "       contributor_id   submitted  n_steps  \\\n",
      "28             213909  2008-05-06     11.0   \n",
      "60             213909  2008-05-16      NaN   \n",
      "90              58104  2004-09-29      4.0   \n",
      "91              47892  2008-02-13      NaN   \n",
      "94               4470  2001-09-03      NaN   \n",
      "...               ...         ...      ...   \n",
      "29873          724218  2008-05-27      9.0   \n",
      "29874           24386  2003-10-29      8.0   \n",
      "29905          305531  2007-09-29      4.0   \n",
      "29980          305531  2008-08-20      3.0   \n",
      "29983          152500  2006-03-31      6.0   \n",
      "\n",
      "                                             description  n_ingredients  \\\n",
      "28     this is a wonderful quick bread to make as an ...            5.0   \n",
      "60     this recipe is so simple and the flavors are s...            5.0   \n",
      "90     pineapple mimosa was changed to hawaiian sunri...            3.0   \n",
      "91     \"mmmm, i love bananas!\" a --tasty dish-- origi...            4.0   \n",
      "94     this is a real short cut for cooks in a hurry....            2.0   \n",
      "...                                                  ...            ...   \n",
      "29873  i haven't tried this yet, but i am going to so...            5.0   \n",
      "29874  a fun thing for kids to do. may want to use mi...            3.0   \n",
      "29905  from betty crocker fresh spring recipes. i lik...            5.0   \n",
      "29980                                  simple and yummy!            3.0   \n",
      "29983  this dish is from tim malzer, a german chef wh...            5.0   \n",
      "\n",
      "       review_count  \n",
      "28              0.0  \n",
      "60              0.0  \n",
      "90              0.0  \n",
      "91              4.0  \n",
      "94              4.0  \n",
      "...             ...  \n",
      "29873           0.0  \n",
      "29874           1.0  \n",
      "29905           0.0  \n",
      "29980           0.0  \n",
      "29983           0.0  \n",
      "\n",
      "[2019 rows x 9 columns]\n"
     ]
    }
   ],
   "source": [
    "# 1.7 Выведите информацию о рецептах, время выполнения которых не больше 20 минут и кол-во ингредиентов в которых не больше 5.\n",
    "print(recipes[(recipes['minutes'] <= 20) & (recipes['n_ingredients'] <= 5)])\n"
   ]
  },
  {
   "cell_type": "code",
   "execution_count": 28,
   "metadata": {},
   "outputs": [
    {
     "name": "stdout",
     "output_type": "stream",
     "text": [
      "                                       name     id  minutes  contributor_id  \\\n",
      "0     george s at the cove  black bean soup  44123       90           35193   \n",
      "1        healthy for them  yogurt popsicles  67664       10           91970   \n",
      "2              i can t believe it s spinach  38798       30            1533   \n",
      "3                      italian  gut busters  35173       45           22724   \n",
      "4  love is in the air  beef fondue   sauces  84797       25            4470   \n",
      "\n",
      "   submitted  n_steps                                        description  \\\n",
      "0 2002-10-25      NaN  an original recipe created by chef scott meska...   \n",
      "1 2003-07-26      NaN  my children and their friends ask for my homem...   \n",
      "2 2002-08-29      NaN            these were so go, it surprised even me.   \n",
      "3 2002-07-27      NaN  my sister-in-law made these for us at a family...   \n",
      "4 2004-02-23      4.0  i think a fondue is a very romantic casual din...   \n",
      "\n",
      "   n_ingredients  review_count  \n",
      "0           18.0           0.0  \n",
      "1            NaN           0.0  \n",
      "2            8.0           0.0  \n",
      "3            NaN           0.0  \n",
      "4            NaN           0.0  \n"
     ]
    }
   ],
   "source": [
    "#2.1 Преобразуйте столбец submitted из таблицы recipes в формат времени. Модифицируйте решение задачи 1.1 так, чтобы считать столбец сразу в нужном формате.\n",
    "recipes['submitted']=pd.to_datetime(recipes['submitted'])\n",
    "print(recipes.head(5))"
   ]
  },
  {
   "cell_type": "code",
   "execution_count": 29,
   "metadata": {},
   "outputs": [
    {
     "name": "stdout",
     "output_type": "stream",
     "text": [
      "                                               name      id  minutes  \\\n",
      "0             george s at the cove  black bean soup   44123       90   \n",
      "1                healthy for them  yogurt popsicles   67664       10   \n",
      "2                      i can t believe it s spinach   38798       30   \n",
      "3                              italian  gut busters   35173       45   \n",
      "4          love is in the air  beef fondue   sauces   84797       25   \n",
      "...                                             ...     ...      ...   \n",
      "29993                     zuni caf zucchini pickles  316950     2895   \n",
      "29995  zurie s holey rustic olive and cheddar bread  267661       80   \n",
      "29996          zwetschgenkuchen  bavarian plum cake  386977      240   \n",
      "29997   zwiebelkuchen   southwest german onion cake  103312       75   \n",
      "29999        cookies by design   cookies on a stick  298512       29   \n",
      "\n",
      "       contributor_id  submitted  n_steps  \\\n",
      "0               35193 2002-10-25      NaN   \n",
      "1               91970 2003-07-26      NaN   \n",
      "2                1533 2002-08-29      NaN   \n",
      "3               22724 2002-07-27      NaN   \n",
      "4                4470 2004-02-23      4.0   \n",
      "...               ...        ...      ...   \n",
      "29993           62264 2008-07-31      NaN   \n",
      "29995          200862 2007-11-25     16.0   \n",
      "29996          177443 2009-08-24      NaN   \n",
      "29997          161745 2004-11-03      NaN   \n",
      "29999          506822 2008-04-15      9.0   \n",
      "\n",
      "                                             description  n_ingredients  \\\n",
      "0      an original recipe created by chef scott meska...           18.0   \n",
      "1      my children and their friends ask for my homem...            NaN   \n",
      "2                these were so go, it surprised even me.            8.0   \n",
      "3      my sister-in-law made these for us at a family...            NaN   \n",
      "4      i think a fondue is a very romantic casual din...            NaN   \n",
      "...                                                  ...            ...   \n",
      "29993  refrigerator pickles for some of the zucchini ...            8.0   \n",
      "29995  this is based on a french recipe but i changed...           10.0   \n",
      "29996  this is a traditional fresh plum cake, thought...           11.0   \n",
      "29997  this is a traditional late summer early fall s...            NaN   \n",
      "29999  i've heard of the 'cookies by design' company,...           10.0   \n",
      "\n",
      "       review_count  \n",
      "0               0.0  \n",
      "1               0.0  \n",
      "2               0.0  \n",
      "3               0.0  \n",
      "4               0.0  \n",
      "...             ...  \n",
      "29993           0.0  \n",
      "29995           0.0  \n",
      "29996           0.0  \n",
      "29997           0.0  \n",
      "29999           0.0  \n",
      "\n",
      "[27661 rows x 9 columns]\n"
     ]
    }
   ],
   "source": [
    "#2.2 Выведите информацию о рецептах, добавленных в датасет не позже 2010 года.\n",
    "print(recipes[(recipes['submitted'].dt.year<=2010)])"
   ]
  },
  {
   "cell_type": "code",
   "execution_count": null,
   "metadata": {},
   "outputs": [],
   "source": [
    "3.1 Добавьте в таблицу recipes столбец description_length, в котором хранится длина описания рецепта из столбца description.\n",
    "\n",
    "3.2 Измените название каждого рецепта в таблице recipes таким образом, чтобы каждое слово в названии начиналось с прописной буквы.\n",
    "\n",
    "3.3 Добавьте в таблицу recipes столбец name_word_count, в котором хранится количество слов из названии рецепта (считайте, что слова в названии разделяются только пробелами). Обратите внимание, что между словами может располагаться несколько пробелов подряд.\n"
   ]
  },
  {
   "cell_type": "code",
   "execution_count": 31,
   "metadata": {},
   "outputs": [
    {
     "data": {
      "text/html": [
       "<div>\n",
       "<style scoped>\n",
       "    .dataframe tbody tr th:only-of-type {\n",
       "        vertical-align: middle;\n",
       "    }\n",
       "\n",
       "    .dataframe tbody tr th {\n",
       "        vertical-align: top;\n",
       "    }\n",
       "\n",
       "    .dataframe thead th {\n",
       "        text-align: right;\n",
       "    }\n",
       "</style>\n",
       "<table border=\"1\" class=\"dataframe\">\n",
       "  <thead>\n",
       "    <tr style=\"text-align: right;\">\n",
       "      <th></th>\n",
       "      <th>name</th>\n",
       "      <th>id</th>\n",
       "      <th>minutes</th>\n",
       "      <th>contributor_id</th>\n",
       "      <th>submitted</th>\n",
       "      <th>n_steps</th>\n",
       "      <th>description</th>\n",
       "      <th>n_ingredients</th>\n",
       "      <th>review_count</th>\n",
       "      <th>description_length</th>\n",
       "    </tr>\n",
       "  </thead>\n",
       "  <tbody>\n",
       "    <tr>\n",
       "      <th>0</th>\n",
       "      <td>george s at the cove  black bean soup</td>\n",
       "      <td>44123</td>\n",
       "      <td>90</td>\n",
       "      <td>35193</td>\n",
       "      <td>2002-10-25</td>\n",
       "      <td>NaN</td>\n",
       "      <td>an original recipe created by chef scott meska...</td>\n",
       "      <td>18.0</td>\n",
       "      <td>0.0</td>\n",
       "      <td>330</td>\n",
       "    </tr>\n",
       "    <tr>\n",
       "      <th>1</th>\n",
       "      <td>healthy for them  yogurt popsicles</td>\n",
       "      <td>67664</td>\n",
       "      <td>10</td>\n",
       "      <td>91970</td>\n",
       "      <td>2003-07-26</td>\n",
       "      <td>NaN</td>\n",
       "      <td>my children and their friends ask for my homem...</td>\n",
       "      <td>NaN</td>\n",
       "      <td>0.0</td>\n",
       "      <td>255</td>\n",
       "    </tr>\n",
       "    <tr>\n",
       "      <th>2</th>\n",
       "      <td>i can t believe it s spinach</td>\n",
       "      <td>38798</td>\n",
       "      <td>30</td>\n",
       "      <td>1533</td>\n",
       "      <td>2002-08-29</td>\n",
       "      <td>NaN</td>\n",
       "      <td>these were so go, it surprised even me.</td>\n",
       "      <td>8.0</td>\n",
       "      <td>0.0</td>\n",
       "      <td>39</td>\n",
       "    </tr>\n",
       "    <tr>\n",
       "      <th>3</th>\n",
       "      <td>italian  gut busters</td>\n",
       "      <td>35173</td>\n",
       "      <td>45</td>\n",
       "      <td>22724</td>\n",
       "      <td>2002-07-27</td>\n",
       "      <td>NaN</td>\n",
       "      <td>my sister-in-law made these for us at a family...</td>\n",
       "      <td>NaN</td>\n",
       "      <td>0.0</td>\n",
       "      <td>154</td>\n",
       "    </tr>\n",
       "    <tr>\n",
       "      <th>4</th>\n",
       "      <td>love is in the air  beef fondue   sauces</td>\n",
       "      <td>84797</td>\n",
       "      <td>25</td>\n",
       "      <td>4470</td>\n",
       "      <td>2004-02-23</td>\n",
       "      <td>4.0</td>\n",
       "      <td>i think a fondue is a very romantic casual din...</td>\n",
       "      <td>NaN</td>\n",
       "      <td>0.0</td>\n",
       "      <td>587</td>\n",
       "    </tr>\n",
       "  </tbody>\n",
       "</table>\n",
       "</div>"
      ],
      "text/plain": [
       "                                       name     id  minutes  contributor_id  \\\n",
       "0     george s at the cove  black bean soup  44123       90           35193   \n",
       "1        healthy for them  yogurt popsicles  67664       10           91970   \n",
       "2              i can t believe it s spinach  38798       30            1533   \n",
       "3                      italian  gut busters  35173       45           22724   \n",
       "4  love is in the air  beef fondue   sauces  84797       25            4470   \n",
       "\n",
       "   submitted  n_steps                                        description  \\\n",
       "0 2002-10-25      NaN  an original recipe created by chef scott meska...   \n",
       "1 2003-07-26      NaN  my children and their friends ask for my homem...   \n",
       "2 2002-08-29      NaN            these were so go, it surprised even me.   \n",
       "3 2002-07-27      NaN  my sister-in-law made these for us at a family...   \n",
       "4 2004-02-23      4.0  i think a fondue is a very romantic casual din...   \n",
       "\n",
       "   n_ingredients  review_count  description_length  \n",
       "0           18.0           0.0                 330  \n",
       "1            NaN           0.0                 255  \n",
       "2            8.0           0.0                  39  \n",
       "3            NaN           0.0                 154  \n",
       "4            NaN           0.0                 587  "
      ]
     },
     "execution_count": 31,
     "metadata": {},
     "output_type": "execute_result"
    }
   ],
   "source": [
    "#3.1 Добавьте в таблицу recipes столбец description_length, в котором хранится длина описания рецепта из столбца description.\n",
    "recipes['description_length']=recipes['description'].apply(lambda x: len(str(x)))\n",
    "recipes.head()"
   ]
  },
  {
   "cell_type": "code",
   "execution_count": 32,
   "metadata": {},
   "outputs": [
    {
     "data": {
      "text/html": [
       "<div>\n",
       "<style scoped>\n",
       "    .dataframe tbody tr th:only-of-type {\n",
       "        vertical-align: middle;\n",
       "    }\n",
       "\n",
       "    .dataframe tbody tr th {\n",
       "        vertical-align: top;\n",
       "    }\n",
       "\n",
       "    .dataframe thead th {\n",
       "        text-align: right;\n",
       "    }\n",
       "</style>\n",
       "<table border=\"1\" class=\"dataframe\">\n",
       "  <thead>\n",
       "    <tr style=\"text-align: right;\">\n",
       "      <th></th>\n",
       "      <th>name</th>\n",
       "      <th>id</th>\n",
       "      <th>minutes</th>\n",
       "      <th>contributor_id</th>\n",
       "      <th>submitted</th>\n",
       "      <th>n_steps</th>\n",
       "      <th>description</th>\n",
       "      <th>n_ingredients</th>\n",
       "      <th>review_count</th>\n",
       "      <th>description_length</th>\n",
       "    </tr>\n",
       "  </thead>\n",
       "  <tbody>\n",
       "    <tr>\n",
       "      <th>0</th>\n",
       "      <td>George S At The Cove Black Bean Soup</td>\n",
       "      <td>44123</td>\n",
       "      <td>90</td>\n",
       "      <td>35193</td>\n",
       "      <td>2002-10-25</td>\n",
       "      <td>NaN</td>\n",
       "      <td>an original recipe created by chef scott meska...</td>\n",
       "      <td>18.0</td>\n",
       "      <td>0.0</td>\n",
       "      <td>330</td>\n",
       "    </tr>\n",
       "    <tr>\n",
       "      <th>1</th>\n",
       "      <td>Healthy For Them Yogurt Popsicles</td>\n",
       "      <td>67664</td>\n",
       "      <td>10</td>\n",
       "      <td>91970</td>\n",
       "      <td>2003-07-26</td>\n",
       "      <td>NaN</td>\n",
       "      <td>my children and their friends ask for my homem...</td>\n",
       "      <td>NaN</td>\n",
       "      <td>0.0</td>\n",
       "      <td>255</td>\n",
       "    </tr>\n",
       "    <tr>\n",
       "      <th>2</th>\n",
       "      <td>I Can T Believe It S Spinach</td>\n",
       "      <td>38798</td>\n",
       "      <td>30</td>\n",
       "      <td>1533</td>\n",
       "      <td>2002-08-29</td>\n",
       "      <td>NaN</td>\n",
       "      <td>these were so go, it surprised even me.</td>\n",
       "      <td>8.0</td>\n",
       "      <td>0.0</td>\n",
       "      <td>39</td>\n",
       "    </tr>\n",
       "    <tr>\n",
       "      <th>3</th>\n",
       "      <td>Italian Gut Busters</td>\n",
       "      <td>35173</td>\n",
       "      <td>45</td>\n",
       "      <td>22724</td>\n",
       "      <td>2002-07-27</td>\n",
       "      <td>NaN</td>\n",
       "      <td>my sister-in-law made these for us at a family...</td>\n",
       "      <td>NaN</td>\n",
       "      <td>0.0</td>\n",
       "      <td>154</td>\n",
       "    </tr>\n",
       "    <tr>\n",
       "      <th>4</th>\n",
       "      <td>Love Is In The Air Beef Fondue Sauces</td>\n",
       "      <td>84797</td>\n",
       "      <td>25</td>\n",
       "      <td>4470</td>\n",
       "      <td>2004-02-23</td>\n",
       "      <td>4.0</td>\n",
       "      <td>i think a fondue is a very romantic casual din...</td>\n",
       "      <td>NaN</td>\n",
       "      <td>0.0</td>\n",
       "      <td>587</td>\n",
       "    </tr>\n",
       "  </tbody>\n",
       "</table>\n",
       "</div>"
      ],
      "text/plain": [
       "                                    name     id  minutes  contributor_id  \\\n",
       "0   George S At The Cove Black Bean Soup  44123       90           35193   \n",
       "1      Healthy For Them Yogurt Popsicles  67664       10           91970   \n",
       "2           I Can T Believe It S Spinach  38798       30            1533   \n",
       "3                    Italian Gut Busters  35173       45           22724   \n",
       "4  Love Is In The Air Beef Fondue Sauces  84797       25            4470   \n",
       "\n",
       "   submitted  n_steps                                        description  \\\n",
       "0 2002-10-25      NaN  an original recipe created by chef scott meska...   \n",
       "1 2003-07-26      NaN  my children and their friends ask for my homem...   \n",
       "2 2002-08-29      NaN            these were so go, it surprised even me.   \n",
       "3 2002-07-27      NaN  my sister-in-law made these for us at a family...   \n",
       "4 2004-02-23      4.0  i think a fondue is a very romantic casual din...   \n",
       "\n",
       "   n_ingredients  review_count  description_length  \n",
       "0           18.0           0.0                 330  \n",
       "1            NaN           0.0                 255  \n",
       "2            8.0           0.0                  39  \n",
       "3            NaN           0.0                 154  \n",
       "4            NaN           0.0                 587  "
      ]
     },
     "execution_count": 32,
     "metadata": {},
     "output_type": "execute_result"
    }
   ],
   "source": [
    "# 3.2 Измените название каждого рецепта в таблице recipes таким образом, чтобы каждое слово в названии начиналось с прописной буквы.\n",
    "recipes['name'] = recipes['name'].apply(lambda x: ' '.join(word.capitalize() for word in x.split()))\n",
    "recipes.head()"
   ]
  },
  {
   "cell_type": "code",
   "execution_count": null,
   "metadata": {},
   "outputs": [],
   "source": [
    "# 3.3 Добавьте в таблицу recipes столбец name_word_count, в котором хранится количество слов из названии рецепта \n",
    "#(считайте, что слова в названии разделяются только пробелами). Обратите внимание, что между словами может располагаться \n",
    "#несколько пробелов подряд."
   ]
  },
  {
   "cell_type": "code",
   "execution_count": 33,
   "metadata": {},
   "outputs": [
    {
     "data": {
      "text/html": [
       "<div>\n",
       "<style scoped>\n",
       "    .dataframe tbody tr th:only-of-type {\n",
       "        vertical-align: middle;\n",
       "    }\n",
       "\n",
       "    .dataframe tbody tr th {\n",
       "        vertical-align: top;\n",
       "    }\n",
       "\n",
       "    .dataframe thead th {\n",
       "        text-align: right;\n",
       "    }\n",
       "</style>\n",
       "<table border=\"1\" class=\"dataframe\">\n",
       "  <thead>\n",
       "    <tr style=\"text-align: right;\">\n",
       "      <th></th>\n",
       "      <th>name</th>\n",
       "      <th>id</th>\n",
       "      <th>minutes</th>\n",
       "      <th>contributor_id</th>\n",
       "      <th>submitted</th>\n",
       "      <th>n_steps</th>\n",
       "      <th>description</th>\n",
       "      <th>n_ingredients</th>\n",
       "      <th>review_count</th>\n",
       "      <th>description_length</th>\n",
       "      <th>name_word_count</th>\n",
       "    </tr>\n",
       "  </thead>\n",
       "  <tbody>\n",
       "    <tr>\n",
       "      <th>0</th>\n",
       "      <td>George S At The Cove Black Bean Soup</td>\n",
       "      <td>44123</td>\n",
       "      <td>90</td>\n",
       "      <td>35193</td>\n",
       "      <td>2002-10-25</td>\n",
       "      <td>NaN</td>\n",
       "      <td>an original recipe created by chef scott meska...</td>\n",
       "      <td>18.0</td>\n",
       "      <td>0.0</td>\n",
       "      <td>330</td>\n",
       "      <td>8</td>\n",
       "    </tr>\n",
       "    <tr>\n",
       "      <th>1</th>\n",
       "      <td>Healthy For Them Yogurt Popsicles</td>\n",
       "      <td>67664</td>\n",
       "      <td>10</td>\n",
       "      <td>91970</td>\n",
       "      <td>2003-07-26</td>\n",
       "      <td>NaN</td>\n",
       "      <td>my children and their friends ask for my homem...</td>\n",
       "      <td>NaN</td>\n",
       "      <td>0.0</td>\n",
       "      <td>255</td>\n",
       "      <td>5</td>\n",
       "    </tr>\n",
       "    <tr>\n",
       "      <th>2</th>\n",
       "      <td>I Can T Believe It S Spinach</td>\n",
       "      <td>38798</td>\n",
       "      <td>30</td>\n",
       "      <td>1533</td>\n",
       "      <td>2002-08-29</td>\n",
       "      <td>NaN</td>\n",
       "      <td>these were so go, it surprised even me.</td>\n",
       "      <td>8.0</td>\n",
       "      <td>0.0</td>\n",
       "      <td>39</td>\n",
       "      <td>7</td>\n",
       "    </tr>\n",
       "    <tr>\n",
       "      <th>3</th>\n",
       "      <td>Italian Gut Busters</td>\n",
       "      <td>35173</td>\n",
       "      <td>45</td>\n",
       "      <td>22724</td>\n",
       "      <td>2002-07-27</td>\n",
       "      <td>NaN</td>\n",
       "      <td>my sister-in-law made these for us at a family...</td>\n",
       "      <td>NaN</td>\n",
       "      <td>0.0</td>\n",
       "      <td>154</td>\n",
       "      <td>3</td>\n",
       "    </tr>\n",
       "    <tr>\n",
       "      <th>4</th>\n",
       "      <td>Love Is In The Air Beef Fondue Sauces</td>\n",
       "      <td>84797</td>\n",
       "      <td>25</td>\n",
       "      <td>4470</td>\n",
       "      <td>2004-02-23</td>\n",
       "      <td>4.0</td>\n",
       "      <td>i think a fondue is a very romantic casual din...</td>\n",
       "      <td>NaN</td>\n",
       "      <td>0.0</td>\n",
       "      <td>587</td>\n",
       "      <td>8</td>\n",
       "    </tr>\n",
       "  </tbody>\n",
       "</table>\n",
       "</div>"
      ],
      "text/plain": [
       "                                    name     id  minutes  contributor_id  \\\n",
       "0   George S At The Cove Black Bean Soup  44123       90           35193   \n",
       "1      Healthy For Them Yogurt Popsicles  67664       10           91970   \n",
       "2           I Can T Believe It S Spinach  38798       30            1533   \n",
       "3                    Italian Gut Busters  35173       45           22724   \n",
       "4  Love Is In The Air Beef Fondue Sauces  84797       25            4470   \n",
       "\n",
       "   submitted  n_steps                                        description  \\\n",
       "0 2002-10-25      NaN  an original recipe created by chef scott meska...   \n",
       "1 2003-07-26      NaN  my children and their friends ask for my homem...   \n",
       "2 2002-08-29      NaN            these were so go, it surprised even me.   \n",
       "3 2002-07-27      NaN  my sister-in-law made these for us at a family...   \n",
       "4 2004-02-23      4.0  i think a fondue is a very romantic casual din...   \n",
       "\n",
       "   n_ingredients  review_count  description_length  name_word_count  \n",
       "0           18.0           0.0                 330                8  \n",
       "1            NaN           0.0                 255                5  \n",
       "2            8.0           0.0                  39                7  \n",
       "3            NaN           0.0                 154                3  \n",
       "4            NaN           0.0                 587                8  "
      ]
     },
     "execution_count": 33,
     "metadata": {},
     "output_type": "execute_result"
    }
   ],
   "source": [
    "recipes['name_word_count']=recipes['name'].apply(lambda x: len(str(x).split()))\n",
    "recipes.head(5)"
   ]
  },
  {
   "cell_type": "code",
   "execution_count": 34,
   "metadata": {},
   "outputs": [
    {
     "name": "stdout",
     "output_type": "stream",
     "text": [
      "contributor_id\n",
      "89831      421\n",
      "37449      346\n",
      "37779      345\n",
      "1533       186\n",
      "169430     183\n",
      "          ... \n",
      "1061628      1\n",
      "1076183      1\n",
      "429061       1\n",
      "64032        1\n",
      "186118       1\n",
      "Name: count, Length: 8404, dtype: int64\n",
      "421\n"
     ]
    }
   ],
   "source": [
    "# 4.1 Посчитайте количество рецептов, представленных каждым из участников (contributor_id). Какой участник добавил максимальное кол-во рецептов?\n",
    "kolv=recipes['contributor_id'].value_counts()\n",
    "print(kolv)\n",
    "mkolv=max(kolv)\n",
    "print(mkolv)"
   ]
  },
  {
   "cell_type": "code",
   "execution_count": 35,
   "metadata": {},
   "outputs": [
    {
     "name": "stdout",
     "output_type": "stream",
     "text": [
      "recipe_id\n",
      "48        1.000000\n",
      "55        4.750000\n",
      "66        4.944444\n",
      "91        4.750000\n",
      "94        5.000000\n",
      "            ...   \n",
      "536547    5.000000\n",
      "536610    0.000000\n",
      "536728    4.000000\n",
      "536729    4.750000\n",
      "536747    0.000000\n",
      "Name: rating, Length: 28100, dtype: float64 2779\n"
     ]
    }
   ],
   "source": [
    "# 4.2 Посчитайте средний рейтинг к каждому из рецептов. Для скольких рецептов отсутствуют отзывы? Обратите внимание, что отзыв с нулевым рейтингом или не заполненным текстовым описанием не считается отсутствующим.\n",
    "srr=reviews.groupby('recipe_id')['rating'].mean()\n",
    "mis = len(str(recipes)) - len(str(srr))\n",
    "print(srr, mis)"
   ]
  },
  {
   "cell_type": "code",
   "execution_count": 36,
   "metadata": {},
   "outputs": [
    {
     "name": "stdout",
     "output_type": "stream",
     "text": [
      "year_created\n",
      "2007    4429\n",
      "2008    4029\n",
      "2006    3473\n",
      "2005    3130\n",
      "2009    2963\n",
      "2002    2644\n",
      "2003    2334\n",
      "2004    2153\n",
      "2010    1538\n",
      "2011     922\n",
      "2012     659\n",
      "2001     589\n",
      "2013     490\n",
      "1999     275\n",
      "2014     139\n",
      "2000     104\n",
      "2015      42\n",
      "2017      39\n",
      "2016      24\n",
      "2018      24\n",
      "Name: count, dtype: int64\n"
     ]
    }
   ],
   "source": [
    "# 4.3 Посчитайте количество рецептов с разбивкой по годам создания.\n",
    "recipes['submitted']=pd.to_datetime(recipes['submitted'])\n",
    "recipes['year_created']=recipes['submitted'].dt.year\n",
    "recc=recipes['year_created'].value_counts()\n",
    "print(recc)"
   ]
  },
  {
   "cell_type": "code",
   "execution_count": 37,
   "metadata": {},
   "outputs": [
    {
     "name": "stdout",
     "output_type": "stream",
     "text": [
      "            id                                  name  user_id  rating\n",
      "0        44123  George S At The Cove Black Bean Soup   743566       5\n",
      "1        44123  George S At The Cove Black Bean Soup    76503       5\n",
      "2        44123  George S At The Cove Black Bean Soup    34206       5\n",
      "3        67664     Healthy For Them Yogurt Popsicles   494084       5\n",
      "4        67664     Healthy For Them Yogurt Popsicles   303445       5\n",
      "...        ...                                   ...      ...     ...\n",
      "126691  486161                           Zydeco Soup   305531       5\n",
      "126692  486161                           Zydeco Soup  1271506       5\n",
      "126693  486161                           Zydeco Soup   724631       5\n",
      "126694  486161                           Zydeco Soup   133174       5\n",
      "126695  298512  Cookies By Design Cookies On A Stick   804234       1\n",
      "\n",
      "[126696 rows x 4 columns]\n",
      "Empty DataFrame\n",
      "Columns: [id, name, user_id, rating]\n",
      "Index: []\n"
     ]
    }
   ],
   "source": [
    "# 5.1 При помощи объединения таблиц, создайте DataFrame, состоящий из четырех столбцов: id, name, user_id, rating. \n",
    "#Рецепты, на которые не оставлен ни один отзыв, должны отсутствовать в полученной таблице. \n",
    "#Подтвердите правильность работы вашего кода, выбрав рецепт, не имеющий отзывов, и попытавшись найти строку, соответствующую этому рецепту, в полученном DataFrame.\n",
    "newrr=recipes.merge(reviews, left_on='id', right_on='recipe_id')[['id', 'name', 'user_id', 'rating']]\n",
    "newrr=newrr.dropna(subset=['rating'])\n",
    "print(newrr)\n",
    "netotz = recipes[~recipes['id'].isin(newrr['id'])] #выбирает те рецепты, айди которых не содер. в новой таблице, где есть отзывы\n",
    "#print(netotz)\n",
    "# Найдем строку в полученном DataFrame, соответствующую рецепту без отзывов (например, первый рецепт)\n",
    "netotz1 = netotz.iloc[0]['id']\n",
    "row = newrr[newrr['id'] == netotz1]\n",
    "print(row)\n"
   ]
  },
  {
   "cell_type": "code",
   "execution_count": 38,
   "metadata": {},
   "outputs": [
    {
     "name": "stdout",
     "output_type": "stream",
     "text": [
      "Рецепты, не имеющие отзывов:\n"
     ]
    },
    {
     "data": {
      "text/html": [
       "<div>\n",
       "<style scoped>\n",
       "    .dataframe tbody tr th:only-of-type {\n",
       "        vertical-align: middle;\n",
       "    }\n",
       "\n",
       "    .dataframe tbody tr th {\n",
       "        vertical-align: top;\n",
       "    }\n",
       "\n",
       "    .dataframe thead th {\n",
       "        text-align: right;\n",
       "    }\n",
       "</style>\n",
       "<table border=\"1\" class=\"dataframe\">\n",
       "  <thead>\n",
       "    <tr style=\"text-align: right;\">\n",
       "      <th></th>\n",
       "      <th>name</th>\n",
       "      <th>id</th>\n",
       "      <th>minutes</th>\n",
       "      <th>contributor_id</th>\n",
       "      <th>submitted</th>\n",
       "      <th>n_steps</th>\n",
       "      <th>description</th>\n",
       "      <th>n_ingredients</th>\n",
       "      <th>review_count</th>\n",
       "      <th>description_length</th>\n",
       "      <th>name_word_count</th>\n",
       "      <th>year_created</th>\n",
       "    </tr>\n",
       "  </thead>\n",
       "  <tbody>\n",
       "    <tr>\n",
       "      <th>0</th>\n",
       "      <td>George S At The Cove Black Bean Soup</td>\n",
       "      <td>44123</td>\n",
       "      <td>90</td>\n",
       "      <td>35193</td>\n",
       "      <td>2002-10-25</td>\n",
       "      <td>NaN</td>\n",
       "      <td>an original recipe created by chef scott meska...</td>\n",
       "      <td>18.0</td>\n",
       "      <td>0.0</td>\n",
       "      <td>330</td>\n",
       "      <td>8</td>\n",
       "      <td>2002</td>\n",
       "    </tr>\n",
       "    <tr>\n",
       "      <th>1</th>\n",
       "      <td>Healthy For Them Yogurt Popsicles</td>\n",
       "      <td>67664</td>\n",
       "      <td>10</td>\n",
       "      <td>91970</td>\n",
       "      <td>2003-07-26</td>\n",
       "      <td>NaN</td>\n",
       "      <td>my children and their friends ask for my homem...</td>\n",
       "      <td>NaN</td>\n",
       "      <td>0.0</td>\n",
       "      <td>255</td>\n",
       "      <td>5</td>\n",
       "      <td>2003</td>\n",
       "    </tr>\n",
       "    <tr>\n",
       "      <th>2</th>\n",
       "      <td>I Can T Believe It S Spinach</td>\n",
       "      <td>38798</td>\n",
       "      <td>30</td>\n",
       "      <td>1533</td>\n",
       "      <td>2002-08-29</td>\n",
       "      <td>NaN</td>\n",
       "      <td>these were so go, it surprised even me.</td>\n",
       "      <td>8.0</td>\n",
       "      <td>0.0</td>\n",
       "      <td>39</td>\n",
       "      <td>7</td>\n",
       "      <td>2002</td>\n",
       "    </tr>\n",
       "    <tr>\n",
       "      <th>3</th>\n",
       "      <td>Italian Gut Busters</td>\n",
       "      <td>35173</td>\n",
       "      <td>45</td>\n",
       "      <td>22724</td>\n",
       "      <td>2002-07-27</td>\n",
       "      <td>NaN</td>\n",
       "      <td>my sister-in-law made these for us at a family...</td>\n",
       "      <td>NaN</td>\n",
       "      <td>0.0</td>\n",
       "      <td>154</td>\n",
       "      <td>3</td>\n",
       "      <td>2002</td>\n",
       "    </tr>\n",
       "    <tr>\n",
       "      <th>4</th>\n",
       "      <td>Love Is In The Air Beef Fondue Sauces</td>\n",
       "      <td>84797</td>\n",
       "      <td>25</td>\n",
       "      <td>4470</td>\n",
       "      <td>2004-02-23</td>\n",
       "      <td>4.0</td>\n",
       "      <td>i think a fondue is a very romantic casual din...</td>\n",
       "      <td>NaN</td>\n",
       "      <td>0.0</td>\n",
       "      <td>587</td>\n",
       "      <td>8</td>\n",
       "      <td>2004</td>\n",
       "    </tr>\n",
       "  </tbody>\n",
       "</table>\n",
       "</div>"
      ],
      "text/plain": [
       "                                    name     id  minutes  contributor_id  \\\n",
       "0   George S At The Cove Black Bean Soup  44123       90           35193   \n",
       "1      Healthy For Them Yogurt Popsicles  67664       10           91970   \n",
       "2           I Can T Believe It S Spinach  38798       30            1533   \n",
       "3                    Italian Gut Busters  35173       45           22724   \n",
       "4  Love Is In The Air Beef Fondue Sauces  84797       25            4470   \n",
       "\n",
       "   submitted  n_steps                                        description  \\\n",
       "0 2002-10-25      NaN  an original recipe created by chef scott meska...   \n",
       "1 2003-07-26      NaN  my children and their friends ask for my homem...   \n",
       "2 2002-08-29      NaN            these were so go, it surprised even me.   \n",
       "3 2002-07-27      NaN  my sister-in-law made these for us at a family...   \n",
       "4 2004-02-23      4.0  i think a fondue is a very romantic casual din...   \n",
       "\n",
       "   n_ingredients  review_count  description_length  name_word_count  \\\n",
       "0           18.0           0.0                 330                8   \n",
       "1            NaN           0.0                 255                5   \n",
       "2            8.0           0.0                  39                7   \n",
       "3            NaN           0.0                 154                3   \n",
       "4            NaN           0.0                 587                8   \n",
       "\n",
       "   year_created  \n",
       "0          2002  \n",
       "1          2003  \n",
       "2          2002  \n",
       "3          2002  \n",
       "4          2004  "
      ]
     },
     "execution_count": 38,
     "metadata": {},
     "output_type": "execute_result"
    }
   ],
   "source": [
    "# 5.2 При помощи объединения таблиц и группировок, создайте DataFrame, состоящий из трех столбцов: \n",
    "#recipe_id, name, review_count, где столбец review_count содержит кол-во отзывов, оставленных на рецепт recipe_id. \n",
    "#У рецептов, на которые не оставлен ни один отзыв, в столбце review_count должен быть указан 0. \n",
    "#Подтвердите правильность работы вашего кода, выбрав рецепт, не имеющий отзывов, и найдя строку, соответствующую этому рецепту,\n",
    "#в полученном DataFrame.\n",
    "\n",
    "recipes_with_reviews =recipes.merge(reviews, left_on='id', right_on='recipe_id')\n",
    "# Группировка данных по столбцу 'recipe_id' и подсчет количества отзывов\n",
    "review_counts = recipes_with_reviews.groupby('recipe_id')['rating'].count()\n",
    "recipes['review_count'] = review_counts\n",
    "recipes['review_count'].fillna(0, inplace=True)\n",
    "recipe_without_reviews = recipes[recipes['review_count'] == 0]\n",
    "print(\"Рецепты, не имеющие отзывов:\")\n",
    "recipe_without_reviews.head()"
   ]
  },
  {
   "cell_type": "code",
   "execution_count": null,
   "metadata": {},
   "outputs": [],
   "source": [
    "# 5.3. Выясните, рецепты, добавленные в каком году, имеют наименьший средний рейтинг?\n",
    "newrr2 = recipes.merge(reviews, left_on='id', right_on='recipe_id')\n",
    "\n",
    "# Считаем средний рейтинг для каждого рецепта\n",
    "srrat = newrr2.groupby('date')['rating'].mean()\n",
    "\n",
    "# Находим рецепт с наименьшим средним рейтингом и год его добавления\n",
    "minsrrat = srrat.idxmin()\n",
    "yearmin = recipes[recipes['id']] == minsrrat['submitted'].values[0]\n",
    "\n",
    "print(f\"Рецепт с наименьшим средним рейтингом '{minsrrat}' был добавлен в {yearmin} году.\")"
   ]
  },
  {
   "cell_type": "code",
   "execution_count": 40,
   "metadata": {},
   "outputs": [],
   "source": [
    "# 6.1 Отсортируйте таблицу в порядке убывания величины столбца name_word_count и сохраните результаты выполнения заданий 3.1-3.3\n",
    "#в csv файл.\n",
    "sorti=recipes.sort_values(by='name_word_count', ascending=False)\n",
    "sorti.to_csv('sorti.csv', index=False)"
   ]
  }
 ],
 "metadata": {
  "kernelspec": {
   "display_name": "Python 3 (ipykernel)",
   "language": "python",
   "name": "python3"
  },
  "language_info": {
   "codemirror_mode": {
    "name": "ipython",
    "version": 3
   },
   "file_extension": ".py",
   "mimetype": "text/x-python",
   "name": "python",
   "nbconvert_exporter": "python",
   "pygments_lexer": "ipython3",
   "version": "3.11.5"
  }
 },
 "nbformat": 4,
 "nbformat_minor": 4
}
